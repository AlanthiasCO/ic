{
 "cells": [
  {
   "cell_type": "code",
   "execution_count": 1,
   "id": "38ac1c2f",
   "metadata": {},
   "outputs": [],
   "source": [
    "import os\n",
    "import random\n",
    "import shutil\n",
    "\n",
    "#diretório raiz do conjunto de dados\n",
    "root_dir = 'C:/Users/Alan Mathias/projeto_mosquitos/mel_spectrograms'\n",
    "\n",
    "#diretório para salvar os subconjuntos\n",
    "train_dir = 'C:/Users/Alan Mathias/projeto_mosquitos/subsets/train'\n",
    "valid_dir = 'C:/Users/Alan Mathias/projeto_mosquitos/subsets/valid'\n",
    "test_dir = 'C:/Users/Alan Mathias/projeto_mosquitos/subsets/test'\n",
    "\n",
    "# Defina a proporção de cada subconjunto\n",
    "train_ratio = 0.6\n",
    "valid_ratio = 0.2\n",
    "test_ratio = 0.2\n",
    "\n",
    "\n",
    "# Para cada classe de mosquito\n",
    "for class_name in ['Anopholes_Gambiae', 'Selected_Aedes_Aegypti']:\n",
    "    # Obtenha a lista de espectrogramas dessa classe\n",
    "    spectrogram_path = os.path.join(root_dir, class_name)\n",
    "    spectrogram_list = os.listdir(spectrogram_path)\n",
    "    \n",
    "    # Embaralhe a lista de espectrogramas\n",
    "    random.shuffle(spectrogram_list)\n",
    "    \n",
    "    # Divida a lista de espectrogramas em subconjuntos de treinamento, validação e teste\n",
    "    num_samples = len(spectrogram_list)\n",
    "    num_train = int(num_samples * train_ratio)\n",
    "    num_valid = int(num_samples * valid_ratio)\n",
    "    num_test = num_samples - num_train - num_valid\n",
    "    \n",
    "    train_list = spectrogram_list[:num_train]\n",
    "    valid_list = spectrogram_list[num_train:num_train+num_valid]\n",
    "    test_list = spectrogram_list[-num_test:]\n",
    "    \n",
    "    # Copie os espectrogramas correspondentes para as pastas de subconjuntos apropriados\n",
    "    for spectrogram_name in train_list:\n",
    "        src_path = os.path.join(spectrogram_path, spectrogram_name)\n",
    "        dst_path = os.path.join(train_dir, class_name, spectrogram_name)\n",
    "        os.makedirs(os.path.dirname(dst_path), exist_ok=True)\n",
    "        shutil.copy(src_path, dst_path)\n",
    "        \n",
    "    for spectrogram_name in valid_list:\n",
    "        src_path = os.path.join(spectrogram_path, spectrogram_name)\n",
    "        dst_path = os.path.join(valid_dir, class_name, spectrogram_name)\n",
    "        os.makedirs(os.path.dirname(dst_path), exist_ok=True)\n",
    "        shutil.copy(src_path, dst_path)\n",
    "        \n",
    "    for spectrogram_name in test_list:\n",
    "        src_path = os.path.join(spectrogram_path, spectrogram_name)\n",
    "        dst_path = os.path.join(test_dir, class_name, spectrogram_name)\n",
    "        os.makedirs(os.path.dirname(dst_path), exist_ok=True)\n",
    "        shutil.copy(src_path, dst_path)\n"
   ]
  }
 ],
 "metadata": {
  "kernelspec": {
   "display_name": "Python 3 (ipykernel)",
   "language": "python",
   "name": "python3"
  },
  "language_info": {
   "codemirror_mode": {
    "name": "ipython",
    "version": 3
   },
   "file_extension": ".py",
   "mimetype": "text/x-python",
   "name": "python",
   "nbconvert_exporter": "python",
   "pygments_lexer": "ipython3",
   "version": "3.10.4"
  }
 },
 "nbformat": 4,
 "nbformat_minor": 5
}
