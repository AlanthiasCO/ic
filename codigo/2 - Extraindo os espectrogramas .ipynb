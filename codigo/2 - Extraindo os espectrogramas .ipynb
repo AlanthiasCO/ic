{
 "cells": [
  {
   "cell_type": "code",
   "execution_count": 2,
   "id": "8f8360d1",
   "metadata": {},
   "outputs": [],
   "source": [
    "import librosa\n",
    "import librosa.display\n",
    "import numpy as np\n",
    "import os\n",
    "import matplotlib.pyplot as plt\n",
    "\n",
    "\n",
    "n_bands = 40\n",
    "n_frames = 40\n",
    "hop_length = 10\n",
    "win_length = 1024\n"
   ]
  },
  {
   "cell_type": "code",
   "execution_count": 4,
   "id": "f0f75d17",
   "metadata": {},
   "outputs": [],
   "source": [
    "def extract_mel_spectrogram(audio_path):\n",
    "    y, sr = librosa.load(audio_path, sr=None)\n",
    "    \n",
    "    mel_spec = librosa.feature.melspectrogram(y=y, sr=sr, n_mels=n_bands, \n",
    "                                               n_fft=win_length, hop_length=hop_length, \n",
    "                                               window='hamming')\n",
    "        mel_spec_db = librosa.power_to_db(mel_spec, ref=np.max)\n",
    "    \n",
    "    return mel_spec_db"
   ]
  },
  {
   "cell_type": "code",
   "execution_count": 5,
   "id": "b04f9187",
   "metadata": {},
   "outputs": [],
   "source": [
    "from joblib import Parallel, delayed\n",
    "\n",
    "def extract_mel_spectrograms_from_directory(input_dir, output_dir, class_name):\n",
    "    os.makedirs(output_dir, exist_ok=True)\n",
    "    \n",
    "    wav_files = [file_name for file_name in os.listdir(input_dir) if file_name.endswith(\".wav\")]\n",
    "    \n",
    "    def process_file(file_name):\n",
    "        file_path = os.path.join(input_dir, file_name)\n",
    "        output_path = os.path.join(output_dir, f\"{class_name}_{file_name}.png\")\n",
    "        y, sr = librosa.load(file_path)\n",
    "        S = librosa.feature.melspectrogram(y=y, sr=sr, n_mels=40, n_fft=1024, hop_length=10)\n",
    "        S_dB = librosa.power_to_db(S, ref=np.max)\n",
    "        plt.figure(figsize=(4, 4))\n",
    "        librosa.display.specshow(S_dB, x_axis=\"time\", y_axis=\"mel\", sr=sr, hop_length=10)\n",
    "        plt.colorbar(format=\"%+2.0f dB\")\n",
    "        plt.tight_layout()\n",
    "        # Define o fundo como transparente\n",
    "        plt.gcf().set_facecolor(\"none\")\n",
    "        # Salva a imagem com fundo transparente\n",
    "        plt.savefig(output_path, transparent=True)\n",
    "        plt.close()\n",
    "        "
   ]
  },
  {
   "cell_type": "code",
   "execution_count": null,
   "id": "40b59ff0",
   "metadata": {},
   "outputs": [],
   "source": [
    "input_dir = \"C:/Users/Alan Mathias/projeto_mosquitos/dataset/Anopholes_Gambiae\"\n",
    "output_dir = \"C:/Users/Alan Mathias/projeto_mosquitos/mel_spectrograms/Anopholes_Gambiae\"\n",
    "class_name = \"Anopholes_Gambiae\"\n",
    "extract_mel_spectrograms_from_directory(input_dir, output_dir, class_name)\n",
    "\n",
    "input_dir = \"C:/Users/Alan Mathias/projeto_mosquitos/dataset/Selected_Aedes_Aegypti\"\n",
    "output_dir = \"C:/Users/Alan Mathias/projeto_mosquitos/mel_spectrograms/Selected_Aedes_Aegypti\"\n",
    "class_name = \"Selected_Aedes_Aegypti\"\n",
    "extract_mel_spectrograms_from_directory(input_dir, output_dir, class_name)\n"
   ]
  }
 ],
 "metadata": {
  "kernelspec": {
   "display_name": "Python 3 (ipykernel)",
   "language": "python",
   "name": "python3"
  },
  "language_info": {
   "codemirror_mode": {
    "name": "ipython",
    "version": 3
   },
   "file_extension": ".py",
   "mimetype": "text/x-python",
   "name": "python",
   "nbconvert_exporter": "python",
   "pygments_lexer": "ipython3",
   "version": "3.10.4"
  }
 },
 "nbformat": 4,
 "nbformat_minor": 5
}
