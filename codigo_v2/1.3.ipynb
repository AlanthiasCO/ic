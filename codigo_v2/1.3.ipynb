{
 "cells": [
  {
   "cell_type": "code",
   "execution_count": 4,
   "id": "240e8b79",
   "metadata": {},
   "outputs": [],
   "source": [
    "import tensorflow as tf\n",
    "from tensorflow.keras.models import Sequential\n",
    "from tensorflow.keras.layers import Dense, Flatten, Dropout\n",
    "from tensorflow.keras.applications import VGG16\n",
    "from tensorflow.keras.optimizers import Adam\n",
    "from tensorflow.keras.preprocessing.image import ImageDataGenerator\n"
   ]
  },
  {
   "cell_type": "code",
   "execution_count": 10,
   "id": "975e5ed6",
   "metadata": {},
   "outputs": [],
   "source": [
    "train_dir = 'C:/Users/Alan Mathias/projeto_mosquito_V2/spectrograms_3ch_dataset/train'\n",
    "test_dir = 'C:/Users/Alan Mathias/projeto_mosquito_V2/spectrograms_3ch_dataset/test'\n",
    "val_dir = 'C:/Users/Alan Mathias/projeto_mosquito_V2/spectrograms_3ch_dataset/val'\n",
    "\n",
    "img_width, img_height = 64, 64\n",
    "num_classes = 2\n",
    "\n"
   ]
  },
  {
   "cell_type": "code",
   "execution_count": 12,
   "id": "eb25f4dc",
   "metadata": {
    "scrolled": true
   },
   "outputs": [
    {
     "name": "stdout",
     "output_type": "stream",
     "text": [
      "Found 5187 images belonging to 2 classes.\n",
      "Found 1481 images belonging to 2 classes.\n",
      "Found 743 images belonging to 2 classes.\n"
     ]
    }
   ],
   "source": [
    "train_datagen = ImageDataGenerator(rescale=1./255)\n",
    "train_generator = train_datagen.flow_from_directory(train_dir, target_size=(img_width, img_height), batch_size=32, class_mode='categorical')\n",
    "\n",
    "test_datagen = ImageDataGenerator(rescale=1./255)\n",
    "test_generator = test_datagen.flow_from_directory(test_dir, target_size=(img_width, img_height), batch_size=32, class_mode='categorical')\n",
    "\n",
    "val_datagen = ImageDataGenerator(rescale=1./255)\n",
    "val_generator = val_datagen.flow_from_directory(val_dir, target_size=(img_width, img_height), batch_size=32, class_mode='categorical')\n"
   ]
  },
  {
   "cell_type": "code",
   "execution_count": 13,
   "id": "4c1a386a",
   "metadata": {
    "scrolled": false
   },
   "outputs": [
    {
     "name": "stdout",
     "output_type": "stream",
     "text": [
      "Model: \"sequential_2\"\n",
      "_________________________________________________________________\n",
      " Layer (type)                Output Shape              Param #   \n",
      "=================================================================\n",
      " conv2d_3 (Conv2D)           (None, 64, 64, 32)        896       \n",
      "                                                                 \n",
      " max_pooling2d_3 (MaxPooling  (None, 32, 32, 32)       0         \n",
      " 2D)                                                             \n",
      "                                                                 \n",
      " conv2d_4 (Conv2D)           (None, 32, 32, 32)        9248      \n",
      "                                                                 \n",
      " max_pooling2d_4 (MaxPooling  (None, 16, 16, 32)       0         \n",
      " 2D)                                                             \n",
      "                                                                 \n",
      " conv2d_5 (Conv2D)           (None, 16, 16, 64)        18496     \n",
      "                                                                 \n",
      " max_pooling2d_5 (MaxPooling  (None, 8, 8, 64)         0         \n",
      " 2D)                                                             \n",
      "                                                                 \n",
      " flatten_1 (Flatten)         (None, 4096)              0         \n",
      "                                                                 \n",
      " dense_2 (Dense)             (None, 128)               524416    \n",
      "                                                                 \n",
      " dense_3 (Dense)             (None, 2)                 258       \n",
      "                                                                 \n",
      "=================================================================\n",
      "Total params: 553,314\n",
      "Trainable params: 553,314\n",
      "Non-trainable params: 0\n",
      "_________________________________________________________________\n"
     ]
    }
   ],
   "source": [
    "from keras.models import Sequential\n",
    "from keras.layers import Conv2D, MaxPooling2D, Flatten, Dense\n",
    "\n",
    "model_comum = Sequential()\n",
    "model_comum.add(Conv2D(32, (3, 3), activation='relu', padding='same', input_shape=(img_width, img_height, 3)))\n",
    "model_comum.add(MaxPooling2D((2, 2)))\n",
    "\n",
    "model_comum.add(Conv2D(32, (3, 3), activation='relu', padding='same'))\n",
    "model_comum.add(MaxPooling2D((2, 2)))\n",
    "\n",
    "model_comum.add(Conv2D(64, (3, 3), activation='relu', padding='same'))\n",
    "model_comum.add(MaxPooling2D((2, 2)))\n",
    "\n",
    "model_comum.add(Flatten())\n",
    "model_comum.add(Dense(128, activation='relu'))\n",
    "model_comum.add(Dense(num_classes, activation='sigmoid'))\n",
    "model_comum.summary()\n"
   ]
  },
  {
   "cell_type": "code",
   "execution_count": 14,
   "id": "1c575c3b",
   "metadata": {},
   "outputs": [
    {
     "name": "stdout",
     "output_type": "stream",
     "text": [
      "Epoch 1/10\n",
      "163/163 [==============================] - 38s 224ms/step - loss: 0.0740 - accuracy: 0.9803 - val_loss: 0.0015 - val_accuracy: 1.0000\n",
      "Epoch 2/10\n",
      "163/163 [==============================] - 36s 221ms/step - loss: 0.0096 - accuracy: 0.9969 - val_loss: 0.0012 - val_accuracy: 1.0000\n",
      "Epoch 3/10\n",
      "163/163 [==============================] - 36s 222ms/step - loss: 0.0156 - accuracy: 0.9960 - val_loss: 6.0537e-04 - val_accuracy: 1.0000\n",
      "Epoch 4/10\n",
      "163/163 [==============================] - 37s 225ms/step - loss: 7.6631e-04 - accuracy: 0.9998 - val_loss: 1.1009e-04 - val_accuracy: 1.0000\n",
      "Epoch 5/10\n",
      "163/163 [==============================] - 37s 227ms/step - loss: 6.9195e-04 - accuracy: 0.9996 - val_loss: 2.9776e-06 - val_accuracy: 1.0000\n",
      "Epoch 6/10\n",
      "163/163 [==============================] - 39s 239ms/step - loss: 3.9226e-04 - accuracy: 0.9998 - val_loss: 2.5321e-04 - val_accuracy: 1.0000\n",
      "Epoch 7/10\n",
      "163/163 [==============================] - 38s 231ms/step - loss: 6.4813e-05 - accuracy: 1.0000 - val_loss: 1.0408e-06 - val_accuracy: 1.0000\n",
      "Epoch 8/10\n",
      "163/163 [==============================] - 37s 226ms/step - loss: 9.2763e-05 - accuracy: 1.0000 - val_loss: 0.0012 - val_accuracy: 1.0000\n",
      "Epoch 9/10\n",
      "163/163 [==============================] - 38s 233ms/step - loss: 6.3437e-05 - accuracy: 1.0000 - val_loss: 2.7824e-05 - val_accuracy: 1.0000\n",
      "Epoch 10/10\n",
      "163/163 [==============================] - 41s 252ms/step - loss: 2.2102e-05 - accuracy: 1.0000 - val_loss: 2.4036e-06 - val_accuracy: 1.0000\n"
     ]
    }
   ],
   "source": [
    "model_comum.compile(optimizer='adam', loss='categorical_crossentropy', metrics=['accuracy'])\n",
    "history = model_comum.fit(train_generator, epochs=10, validation_data=val_generator)"
   ]
  },
  {
   "cell_type": "code",
   "execution_count": 15,
   "id": "d7fe37fc",
   "metadata": {},
   "outputs": [
    {
     "name": "stdout",
     "output_type": "stream",
     "text": [
      "47/47 [==============================] - 16s 334ms/step - loss: 0.0013 - accuracy: 0.9993\n",
      "Perda no conjunto de teste: 0.0012651412980630994\n",
      "Acurácia no conjunto de teste: 0.9993247985839844\n"
     ]
    }
   ],
   "source": [
    "# Compile o modelo com as mesmas configurações usadas no treinamento\n",
    "model_comum.compile(optimizer=Adam(learning_rate=0.001), loss='categorical_crossentropy', metrics=['accuracy'])\n",
    "\n",
    "# Avalie o modelo no conjunto de teste\n",
    "test_loss, test_acc = model_comum.evaluate(test_generator)\n",
    "\n",
    "print('Perda no conjunto de teste:', test_loss)\n",
    "print('Acurácia no conjunto de teste:', test_acc)\n"
   ]
  },
  {
   "cell_type": "code",
   "execution_count": 17,
   "id": "62828e2a",
   "metadata": {
    "scrolled": true
   },
   "outputs": [
    {
     "name": "stdout",
     "output_type": "stream",
     "text": [
      "47/47 [==============================] - 4s 89ms/step\n",
      "[[392 355]\n",
      " [354 380]]\n"
     ]
    }
   ],
   "source": [
    "from sklearn.metrics import confusion_matrix\n",
    "import numpy as np\n",
    "\n",
    "# Gerando as previsões para os dados de teste\n",
    "y_pred = np.argmax(model_comum.predict(test_generator), axis=-1)\n",
    "\n",
    "# Obtendo os rótulos verdadeiros dos dados de teste\n",
    "y_true = test_generator.classes\n",
    "\n",
    "# Criando a matriz de confusão\n",
    "cm = confusion_matrix(y_true, y_pred)\n",
    "\n",
    "print(cm)\n"
   ]
  },
  {
   "cell_type": "code",
   "execution_count": null,
   "id": "ec2c4f18",
   "metadata": {},
   "outputs": [],
   "source": []
  },
  {
   "cell_type": "code",
   "execution_count": null,
   "id": "3d169a35",
   "metadata": {},
   "outputs": [],
   "source": []
  },
  {
   "cell_type": "code",
   "execution_count": null,
   "id": "6e1095bb",
   "metadata": {},
   "outputs": [],
   "source": []
  },
  {
   "cell_type": "code",
   "execution_count": 4,
   "id": "0a048583",
   "metadata": {
    "scrolled": false
   },
   "outputs": [
    {
     "name": "stdout",
     "output_type": "stream",
     "text": [
      "Model: \"sequential\"\n",
      "_________________________________________________________________\n",
      " Layer (type)                Output Shape              Param #   \n",
      "=================================================================\n",
      " vgg16 (Functional)          (None, 4, 4, 512)         14714688  \n",
      "                                                                 \n",
      " flatten (Flatten)           (None, 8192)              0         \n",
      "                                                                 \n",
      " dense (Dense)               (None, 256)               2097408   \n",
      "                                                                 \n",
      " dropout (Dropout)           (None, 256)               0         \n",
      "                                                                 \n",
      " dense_1 (Dense)             (None, 2)                 514       \n",
      "                                                                 \n",
      "=================================================================\n",
      "Total params: 16,812,610\n",
      "Trainable params: 2,097,922\n",
      "Non-trainable params: 14,714,688\n",
      "_________________________________________________________________\n"
     ]
    }
   ],
   "source": [
    "vgg_model = VGG16(weights='imagenet', include_top=False, input_shape=(img_width, img_height, 3))\n",
    "\n",
    "\n",
    "for layer in vgg_model.layers:\n",
    "    layer.trainable = False\n",
    "\n",
    "model = Sequential()\n",
    "model.add(vgg_model)\n",
    "model.add(Flatten())\n",
    "model.add(Dense(256, activation='relu'))\n",
    "model.add(Dropout(0.5))\n",
    "model.add(Dense(num_classes, activation='sigmoid'))\n",
    "\n",
    "\n",
    "model.summary()\n"
   ]
  },
  {
   "cell_type": "code",
   "execution_count": 5,
   "id": "c4bd6bf3",
   "metadata": {},
   "outputs": [],
   "source": [
    "model.compile(optimizer='adam', loss='categorical_crossentropy', metrics=['accuracy'])\n"
   ]
  },
  {
   "cell_type": "code",
   "execution_count": null,
   "id": "74035505",
   "metadata": {},
   "outputs": [
    {
     "name": "stdout",
     "output_type": "stream",
     "text": [
      "Epoch 1/10\n",
      "  3/163 [..............................] - ETA: 20:55 - loss: 0.9382 - accuracy: 0.4688"
     ]
    }
   ],
   "source": [
    "history = model.fit(train_generator, epochs=10, validation_data=val_generator)"
   ]
  }
 ],
 "metadata": {
  "kernelspec": {
   "display_name": "Python 3 (ipykernel)",
   "language": "python",
   "name": "python3"
  },
  "language_info": {
   "codemirror_mode": {
    "name": "ipython",
    "version": 3
   },
   "file_extension": ".py",
   "mimetype": "text/x-python",
   "name": "python",
   "nbconvert_exporter": "python",
   "pygments_lexer": "ipython3",
   "version": "3.10.4"
  }
 },
 "nbformat": 4,
 "nbformat_minor": 5
}
