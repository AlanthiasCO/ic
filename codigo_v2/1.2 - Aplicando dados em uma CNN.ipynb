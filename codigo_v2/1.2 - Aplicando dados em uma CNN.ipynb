{
 "cells": [
  {
   "cell_type": "markdown",
   "id": "72840f48",
   "metadata": {},
   "source": [
    "## Aplicando os conjuntos de treino, teste e validação em uma CNN"
   ]
  },
  {
   "cell_type": "code",
   "execution_count": 3,
   "id": "f9fda229",
   "metadata": {
    "scrolled": true
   },
   "outputs": [
    {
     "name": "stdout",
     "output_type": "stream",
     "text": [
      "Found 5928 images belonging to 2 classes.\n",
      "Found 741 images belonging to 2 classes.\n",
      "Found 742 images belonging to 2 classes.\n"
     ]
    }
   ],
   "source": [
    "from keras.preprocessing.image import ImageDataGenerator\n",
    "import tensorflow as tf\n",
    "\n",
    "# Definir tamanho da imagem e número de classes\n",
    "img_width, img_height = 128, 128\n",
    "num_classes = 2\n",
    "\n",
    "# Definir diretórios de treino e validação\n",
    "train_data_dir = 'C:/Users/Alan Mathias/projeto_mosquito_V2/dataset_split/train' \n",
    "validation_data_dir = 'C:/Users/Alan Mathias/projeto_mosquito_V2/dataset_split/val'\n",
    "test_data_dir = 'C:/Users/Alan Mathias/projeto_mosquito_V2/dataset_split/test'\n",
    "\n",
    "\n",
    "# Criar gerador de dados para treino com aumento de dados\n",
    "train_datagen = ImageDataGenerator(rescale=1./255,\n",
    "                                   shear_range=0.2,\n",
    "                                   zoom_range=0.2,\n",
    "                                   horizontal_flip=True)\n",
    "\n",
    "# Criar gerador de dados para validação sem aumento de dados\n",
    "validation_datagen = ImageDataGenerator(rescale=1./255)\n",
    "# Criar gerador de dados para teste sem aumento de dados\n",
    "test_datagen = ImageDataGenerator(rescale=1./255)\n",
    "# Criar gerador de dados para treino\n",
    "train_generator = train_datagen.flow_from_directory(train_data_dir,\n",
    "                                                    target_size=(img_width, img_height),\n",
    "                                                    color_mode='grayscale',\n",
    "                                                    batch_size=32,\n",
    "                                                    class_mode='binary')\n",
    "\n",
    "# Criar gerador de dados para validação\n",
    "validation_generator = validation_datagen.flow_from_directory(validation_data_dir,\n",
    "                                                              target_size=(img_width, img_height),\n",
    "                                                              color_mode='grayscale',\n",
    "                                                              batch_size=32,\n",
    "                                                              class_mode='binary')\n",
    "\n",
    "test_generator = test_datagen.flow_from_directory(test_data_dir,\n",
    "                                                    target_size=(img_width, img_height),\n",
    "                                                    batch_size=32,\n",
    "                                                    color_mode='grayscale',\n",
    "                                                    class_mode='binary')\n",
    "\n"
   ]
  },
  {
   "cell_type": "markdown",
   "id": "ea7097b8",
   "metadata": {},
   "source": []
  },
  {
   "cell_type": "markdown",
   "id": "8c7871af",
   "metadata": {},
   "source": [
    "### A classe Aedes Aegypti = 0\n",
    "### A classe Anopholes Gambiae = 1"
   ]
  },
  {
   "cell_type": "code",
   "execution_count": null,
   "id": "54db8166",
   "metadata": {},
   "outputs": [],
   "source": []
  },
  {
   "cell_type": "code",
   "execution_count": 4,
   "id": "675b048d",
   "metadata": {
    "scrolled": false
   },
   "outputs": [
    {
     "name": "stdout",
     "output_type": "stream",
     "text": [
      "Model: \"sequential\"\n",
      "_________________________________________________________________\n",
      " Layer (type)                Output Shape              Param #   \n",
      "=================================================================\n",
      " conv2d (Conv2D)             (None, 126, 126, 32)      320       \n",
      "                                                                 \n",
      " max_pooling2d (MaxPooling2D  (None, 63, 63, 32)       0         \n",
      " )                                                               \n",
      "                                                                 \n",
      " flatten (Flatten)           (None, 127008)            0         \n",
      "                                                                 \n",
      " dense (Dense)               (None, 64)                8128576   \n",
      "                                                                 \n",
      " dense_1 (Dense)             (None, 1)                 65        \n",
      "                                                                 \n",
      "=================================================================\n",
      "Total params: 8,128,961\n",
      "Trainable params: 8,128,961\n",
      "Non-trainable params: 0\n",
      "_________________________________________________________________\n",
      "Epoch 1/10\n",
      "186/186 [==============================] - 77s 407ms/step - loss: 0.1651 - accuracy: 0.9551 - val_loss: 0.0134 - val_accuracy: 0.9946\n",
      "Epoch 2/10\n",
      "186/186 [==============================] - 66s 352ms/step - loss: 0.0181 - accuracy: 0.9936 - val_loss: 0.0098 - val_accuracy: 0.9946\n",
      "Epoch 3/10\n",
      "186/186 [==============================] - 71s 378ms/step - loss: 0.0119 - accuracy: 0.9958 - val_loss: 0.0060 - val_accuracy: 0.9973\n",
      "Epoch 4/10\n",
      "186/186 [==============================] - 69s 372ms/step - loss: 0.0160 - accuracy: 0.9941 - val_loss: 0.0048 - val_accuracy: 0.9987\n",
      "Epoch 5/10\n",
      "186/186 [==============================] - 68s 366ms/step - loss: 0.0060 - accuracy: 0.9980 - val_loss: 0.0023 - val_accuracy: 1.0000\n",
      "Epoch 6/10\n",
      "186/186 [==============================] - 68s 366ms/step - loss: 0.0046 - accuracy: 0.9987 - val_loss: 0.0029 - val_accuracy: 1.0000\n",
      "Epoch 7/10\n",
      "186/186 [==============================] - 72s 388ms/step - loss: 0.0045 - accuracy: 0.9981 - val_loss: 0.0090 - val_accuracy: 0.9973\n",
      "Epoch 8/10\n",
      "186/186 [==============================] - 68s 364ms/step - loss: 0.0049 - accuracy: 0.9988 - val_loss: 0.0019 - val_accuracy: 1.0000\n",
      "Epoch 9/10\n",
      "186/186 [==============================] - 68s 366ms/step - loss: 0.0041 - accuracy: 0.9987 - val_loss: 0.0015 - val_accuracy: 1.0000\n",
      "Epoch 10/10\n",
      "186/186 [==============================] - 75s 405ms/step - loss: 0.0032 - accuracy: 0.9988 - val_loss: 8.4106e-04 - val_accuracy: 1.0000\n"
     ]
    }
   ],
   "source": [
    "from keras.models import Sequential\n",
    "from keras.layers import Conv2D, MaxPooling2D, Flatten, Dense\n",
    "\n",
    "model = tf.keras.Sequential([\n",
    "    tf.keras.layers.Conv2D(32, (3,3), activation='relu', input_shape=(img_height, img_width, 1)),\n",
    "    tf.keras.layers.MaxPooling2D(2, 2),\n",
    "    tf.keras.layers.Flatten(),\n",
    "    tf.keras.layers.Dense(64, activation='relu'),\n",
    "    tf.keras.layers.Dense(1, activation='sigmoid')\n",
    "])\n",
    "\n",
    "model.summary()\n",
    "\n",
    "model.compile(optimizer='adam', loss='binary_crossentropy', metrics=['accuracy'])\n",
    "\n",
    "# Treinar modelo\n",
    "history = model.fit(train_generator,\n",
    "                    steps_per_epoch=len(train_generator),\n",
    "                    epochs=10,\n",
    "                    validation_data=validation_generator,\n",
    "                    validation_steps=len(validation_generator))\n"
   ]
  },
  {
   "cell_type": "markdown",
   "id": "a0761859",
   "metadata": {},
   "source": [
    "## Verificar as predições do modelo com 10 elementos de teste:\n"
   ]
  },
  {
   "cell_type": "code",
   "execution_count": 6,
   "id": "0427c4e0",
   "metadata": {
    "scrolled": true
   },
   "outputs": [
    {
     "name": "stdout",
     "output_type": "stream",
     "text": [
      "1/1 [==============================] - 0s 96ms/step\n",
      "Classes reais:  [0. 0. 0. 1. 1. 0. 1. 0. 1. 1. 0. 1. 0. 1. 0. 1. 0. 1. 0. 1.]\n",
      "Predições do modelo:  [[0.]\n",
      " [0.]\n",
      " [0.]\n",
      " [1.]\n",
      " [1.]\n",
      " [0.]\n",
      " [1.]\n",
      " [0.]\n",
      " [1.]\n",
      " [1.]\n",
      " [0.]\n",
      " [1.]\n",
      " [0.]\n",
      " [1.]\n",
      " [0.]\n",
      " [1.]\n",
      " [0.]\n",
      " [1.]\n",
      " [0.]\n",
      " [1.]]\n",
      "Acurácia: 100.00%\n"
     ]
    }
   ],
   "source": [
    "from sklearn.metrics import accuracy_score\n",
    "import numpy as np\n",
    "\n",
    "# Carregar os primeiros 10 dados de teste\n",
    "x_test, y_test = next(test_generator)\n",
    "x_test, y_test = x_test[:20], y_test[:20]\n",
    "\n",
    "# Fazer as predições do modelo\n",
    "y_pred = model.predict(x_test)\n",
    "\n",
    "# Arredondar as predições para 0 ou 1\n",
    "y_pred = np.round(y_pred)\n",
    "\n",
    "# Comparar as predições com as classes reais\n",
    "print(\"Classes reais: \", y_test)\n",
    "print(\"Predições do modelo: \", y_pred)\n",
    "\n",
    "# Calcular a acurácia\n",
    "accuracy = accuracy_score(y_test, y_pred)\n",
    "print(\"Acurácia: {:.2f}%\".format(accuracy * 100))\n"
   ]
  },
  {
   "cell_type": "code",
   "execution_count": 8,
   "id": "f5306640",
   "metadata": {
    "scrolled": false
   },
   "outputs": [
    {
     "name": "stdout",
     "output_type": "stream",
     "text": [
      "24/24 [==============================] - 3s 126ms/step\n",
      "tf.Tensor(\n",
      "[[195 179]\n",
      " [179 189]], shape=(2, 2), dtype=int32)\n"
     ]
    },
    {
     "data": {
      "image/png": "[encoded data removed]",
      "text/plain": [
       "<Figure size 576x576 with 2 Axes>"
      ]
     },
     "metadata": {
      "needs_background": "light"
     },
     "output_type": "display_data"
    }
   ],
   "source": [
    "import matplotlib.pyplot as plt\n",
    "import seaborn as sns\n",
    "from sklearn.metrics import confusion_matrix\n",
    "\n",
    "# Obter as classes previstas do conjunto de teste\n",
    "predicted_classes = (model.predict(test_generator) > 0.5).astype(\"int32\")\n",
    "\n",
    "# Obter as classes reais do conjunto de teste\n",
    "true_classes = test_generator.classes\n",
    "\n",
    "# Obter os nomes das classes\n",
    "class_names = list(test_generator.class_indices.keys())\n",
    "\n",
    "# Calcular a matriz de confusão\n",
    "cm = tf.math.confusion_matrix(true_classes, predicted_classes)\n",
    "\n",
    "# Imprimir a matriz de confusão\n",
    "print(cm)\n",
    "\n",
    "# Plotar a matriz de confusão\n",
    "plt.figure(figsize=(8, 8))\n",
    "sns.heatmap(cm, annot=True, fmt='g', cmap='Blues', xticklabels=class_names, yticklabels=class_names)\n",
    "plt.xlabel('Predicted')\n",
    "plt.ylabel('True')\n",
    "plt.show()"
   ]
  },
  {
   "cell_type": "code",
   "execution_count": 36,
   "id": "e7e14d8e",
   "metadata": {},
   "outputs": [],
   "source": [
    "model.save('modelos/1_modelo_cnn_128x128.h5')\n"
   ]
  }
 ],
 "metadata": {
  "kernelspec": {
   "display_name": "Python 3 (ipykernel)",
   "language": "python",
   "name": "python3"
  },
  "language_info": {
   "codemirror_mode": {
    "name": "ipython",
    "version": 3
   },
   "file_extension": ".py",
   "mimetype": "text/x-python",
   "name": "python",
   "nbconvert_exporter": "python",
   "pygments_lexer": "ipython3",
   "version": "3.10.4"
  }
 },
 "nbformat": 4,
 "nbformat_minor": 5
}
